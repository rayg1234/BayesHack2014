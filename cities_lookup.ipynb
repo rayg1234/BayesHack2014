{
 "metadata": {
  "name": "",
  "signature": "sha256:88fa32336456b40ca11f410256b85826a3bc757206337a033f7fc04b7fb175fe"
 },
 "nbformat": 3,
 "nbformat_minor": 0,
 "worksheets": [
  {
   "cells": [
    {
     "cell_type": "code",
     "collapsed": false,
     "input": [
      "import pandas as pd\n",
      "import numpy as np"
     ],
     "language": "python",
     "metadata": {},
     "outputs": [],
     "prompt_number": 2
    },
    {
     "cell_type": "code",
     "collapsed": false,
     "input": [
      "df = pd.read_csv('sketch_factor.csv')"
     ],
     "language": "python",
     "metadata": {},
     "outputs": [],
     "prompt_number": 48
    },
    {
     "cell_type": "code",
     "collapsed": false,
     "input": [
      "city_latlong = pd.read_csv('cities.csv', sep = ' ', names = ['a','lat','long','b','c','d','e','f','g','city'])\n",
      "city_latlong = city_latlong[['city','lat','long']]\n",
      "city_latlong['city'] = city_latlong.city.apply(lambda  x:x[: (x.find(','))])"
     ],
     "language": "python",
     "metadata": {},
     "outputs": [],
     "prompt_number": 42
    },
    {
     "cell_type": "code",
     "collapsed": false,
     "input": [
      "print city_latlong"
     ],
     "language": "python",
     "metadata": {},
     "outputs": [
      {
       "output_type": "stream",
       "stream": "stdout",
       "text": [
        "             city    lat    long\n",
        "0        Anniston  33.58   85.85\n",
        "1          Auburn  32.67   85.44\n",
        "2      Birmingham  33.57   86.75\n",
        "3     Centreville  32.90   87.25\n",
        "4          Dothan  31.32   85.45\n",
        "5      FortRucker  31.28   85.72\n",
        "6         Gadsden  33.97   86.09\n",
        "7      Huntsville  34.65   86.77\n",
        "8      MaxwellAFB  32.38   86.37\n",
        "9          Mobile  30.68   88.25\n",
        "10    MobileAeros  30.63   88.07\n",
        "11     Montgomery  32.30   86.40\n",
        "12    MuscleShoal  34.75   87.62\n",
        "13          Selma  32.34   86.99\n",
        "14           Troy  31.87   86.02\n",
        "15     Tuscaloosa  33.23   87.62\n",
        "16           Adak  51.88  176.65\n",
        "17         Ambler  67.10  157.85\n",
        "18      Anchorage  61.17  150.02\n",
        "19      Anchorage  61.22  149.85\n",
        "20         Angoon  57.83  134.97\n",
        "21          Aniak  61.58  159.53\n",
        "22     AnnetteIsl  55.03  131.57\n",
        "23           Attu  53.50  173.30\n",
        "24         Barrow  71.30  156.78\n",
        "25    BarterIslan  70.13  143.63\n",
        "26     BethelArpt  60.78  161.80\n",
        "27        Bettles  66.92  151.52\n",
        "28       BigDelta  64.00  145.73\n",
        "29     BigRiverLk  60.82  152.30\n",
        "...           ...    ...     ...\n",
        "1187     LoneRock  43.20   90.18\n",
        "1188      Madison  43.13   89.33\n",
        "1189    Manitowac  44.13   87.67\n",
        "1190    Milwaukee  42.95   87.90\n",
        "1191    Milwaukee  43.12   88.05\n",
        "1192      Mosinee  44.78   89.67\n",
        "1193       Neenah  44.22   88.53\n",
        "1194      Oshkosh  44.00   88.57\n",
        "1195  Rhinelander  45.63   89.45\n",
        "1196     RiceLake  45.48   91.72\n",
        "1197      VolkFld  43.93   90.27\n",
        "1198       Wausau  44.92   89.62\n",
        "1199     BigPiney  42.57  110.10\n",
        "1200       Casper  42.92  106.47\n",
        "1201     Cheyenne  41.15  104.82\n",
        "1202         Cody  44.52  109.02\n",
        "1203      Douglas  42.75  105.38\n",
        "1204     Evanston  41.33  111.00\n",
        "1205     Gillette  44.35  105.53\n",
        "1206      Jackson  43.60  110.73\n",
        "1207       Lander  42.82  108.73\n",
        "1208      Laramie  41.32  105.68\n",
        "1209    Moorcroft  44.35  104.81\n",
        "1210      Rawlins  41.80  107.20\n",
        "1211     Riverton  43.05  108.45\n",
        "1212  RockSprings  41.60  109.07\n",
        "1213     Sheridan  44.77  106.97\n",
        "1214      Worland  43.97  107.97\n",
        "1215  Yellowstone  44.55  110.42\n",
        "1216  Yellowstone  44.55  110.42\n",
        "\n",
        "[1217 rows x 3 columns]\n"
       ]
      }
     ],
     "prompt_number": 44
    },
    {
     "cell_type": "code",
     "collapsed": false,
     "input": [
      "cities = df.cities\n",
      "def get_coords(x):\n",
      "    coords = []\n",
      "    prev = ''\n",
      "    current = ''\n",
      "    for city_name in x.split():\n",
      "        city_name = city_name.translate(None, \"[']\")\n",
      "        current = city_name\n",
      "        if prev == 'New' and current == 'York':\n",
      "            city_name = 'NewYork'\n",
      "        if prev == 'Los' and current == 'Angeles':\n",
      "            city_name = 'LosAngeles'\n",
      "        if prev == 'St.' and current == 'Louis':\n",
      "            city_name = 'StLouis'\n",
      "        entry = city_latlong[city_latlong.city == city_name]\n",
      "        prev = current\n",
      "        try:\n",
      "            coords.append((list(entry.lat.values)[0], list(entry.long.values)[0]))\n",
      "        except Exception:\n",
      "            pass\n",
      "    return coords\n",
      "\n",
      "top_crime_rings = df.iloc[0:50]\n",
      "top_crime_rings['coords'] = top_crime_rings.cities.apply(get_coords)"
     ],
     "language": "python",
     "metadata": {},
     "outputs": [],
     "prompt_number": 121
    },
    {
     "cell_type": "code",
     "collapsed": false,
     "input": [
      "top_crime_rings.to_csv('top_crime_rings.csv')"
     ],
     "language": "python",
     "metadata": {},
     "outputs": [],
     "prompt_number": 124
    },
    {
     "cell_type": "code",
     "collapsed": false,
     "input": [
      "import pickle\n",
      "pickle.dump(list(top_crime_rings.coords), open('coords_pickle.p','wb'))"
     ],
     "language": "python",
     "metadata": {},
     "outputs": [],
     "prompt_number": 130
    },
    {
     "cell_type": "code",
     "collapsed": false,
     "input": [],
     "language": "python",
     "metadata": {},
     "outputs": []
    }
   ],
   "metadata": {}
  }
 ]
}